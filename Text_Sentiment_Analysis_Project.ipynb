{
 "cells": [
  {
   "cell_type": "markdown",
   "metadata": {
    "id": "YiRDbOrkIpLp"
   },
   "source": [
    "# Final Project Template\n",
    "**Notebook Preparation for Lesson**\n",
    "\n",
    "Once you open the notebook:\n",
    "\n",
    "1. Save in on your google drive (copy to drive) and name it DMAP FA21 Final Project\n",
    "2. Share the notebook and copy the share ID to the NOTEBOOK_ID (and re-save the notebook)\n",
    "3. This ID should remain the same for all your milestones\n",
    "4. You will submit a copy of your updated notebook (this file) on Moodle for each milestone\n"
   ]
  },
  {
   "cell_type": "code",
   "execution_count": 1,
   "metadata": {
    "id": "MPrJ8HLyC-Cd"
   },
   "outputs": [],
   "source": [
    "# Keep this code cell here\n",
    "# Project title will be used by the reviewer\n",
    "PROJECT_TITLE = \"The Changing of The Public's Opinion About COVID-19 Vaccine From Early 2020 to Early 2021\"\n",
    "NOTEBOOK_ID   = \"1kJUKyTAZDMEO6-CwBKTntRBP9m9rgpqZ\"\n",
    "VERSION = \"FA21\""
   ]
  },
  {
   "cell_type": "markdown",
   "metadata": {
    "id": "ui5eQuo1DMEI"
   },
   "source": [
    "\n",
    "---\n",
    "# Project Introduction\n",
    "\n",
    "Double click on this cell to see its contents.  We expect you to replace this cell.\n",
    "\n",
    "<img align=\"left\" src=\"http://drive.google.com/uc?export=view&id=1nA9491MchEtFcklvtIGqOnipE63C2FGD\"/>\n",
    "\n",
    "• Describe the **context**, sitution, problem to be solved/explored\n",
    "\n",
    "• Whatever you need to get the reader _involved_\n",
    "\n",
    "• Images can be hosted using google drive (you may need to create a transparent border)\n",
    "\n",
    "• Even formulas when needed: \n",
    "$$e^x = \\sum_{k=0}^{\\infty} \\frac{x^k}{k!}$$\n",
    "\n",
    "• Note that markdown is very whitespace sensitive.\n",
    "• Click on this cell to read comments.\n",
    "\n",
    "<!-- this is a comment -->\n",
    "<!-- \n",
    "\n",
    "   VIDEO INSTRUCTIONS (and data hosting)\n",
    "\n",
    "1. upload to google drive, get the share URL\n",
    "https://drive.google.com/file/d/1yGvY5a0KAqnOKf5kLh5EbbbRY4_LonAX\n",
    "\n",
    "2. convert to export URL:\n",
    "http://drive.google.com/uc?export=download&id=1yGvY5a0KAqnOKf5kLh5EbbbRY4_LonAX\n",
    "\n",
    "3. OR use some other service to host your video:\n",
    "https://storage.googleapis.com/uicourse/videos/dmap/Exact%20Instructions%20Challenge%20-%20THIS%20is%20why%20my%20kids%20hate%20me.%20%20Josh%20Darnit.mp4\n",
    "\n",
    "replace the src=\"YOUR VIDEO URL\" in the <source> tag in the next cell below\n",
    "-->"
   ]
  },
  {
   "cell_type": "code",
   "execution_count": 2,
   "metadata": {
    "colab": {
     "base_uri": "https://localhost:8080/",
     "height": 453
    },
    "id": "JQo5zhkeEuXL",
    "outputId": "a1a6fa4d-90de-4f3d-d433-a0b0caab31d4"
   },
   "outputs": [
    {
     "data": {
      "text/html": [
       "<!-- this should be the ONLY html cell in the notebook: use markdown\n",
       "<div style=\"font-size:36px; max-width:800px; font-family:Times, serif;\">\n",
       "The Changing of The Public's Opinion About COVID-19 Vaccine From Early 2020 to Early 2021 \n",
       "<video width=\"600\" controls>\n",
       "  <source src=\"https://drive.google.com/file/d/11uicyngR-SBZhuivYgsnu6sWl2B2pGI2/view?usp=sharing\"\n",
       "  type=\"video/mp4\">\n",
       "</video>\n",
       "</div>-->\n",
       "<iframe src=\"https://drive.google.com/file/d/11uicyngR-SBZhuivYgsnu6sWl2B2pGI2/preview\" width=\"640\" height=\"410\" title = \"The Changing of The Public's Opinion About COVID-19 Vaccine From Early 2020 to Early 2021 \"></iframe>\n",
       "<br>Note: If your video is too large, you can host it on Vimeo, YouTube, etc and paste the URL here\n"
      ],
      "text/plain": [
       "<IPython.core.display.HTML object>"
      ]
     },
     "metadata": {},
     "output_type": "display_data"
    }
   ],
   "source": [
    "%%html\n",
    "<!-- this should be the ONLY html cell in the notebook: use markdown\n",
    "<div style=\"font-size:36px; max-width:800px; font-family:Times, serif;\">\n",
    "The Changing of The Public's Opinion About COVID-19 Vaccine From Early 2020 to Early 2021 \n",
    "<video width=\"600\" controls>\n",
    "  <source src=\"https://drive.google.com/file/d/11uicyngR-SBZhuivYgsnu6sWl2B2pGI2/view?usp=sharing\"\n",
    "  type=\"video/mp4\">\n",
    "</video>\n",
    "</div>-->\n",
    "<iframe src=\"https://drive.google.com/file/d/11uicyngR-SBZhuivYgsnu6sWl2B2pGI2/preview\" width=\"640\" height=\"410\" title = \"The Changing of The Public's Opinion About COVID-19 Vaccine From Early 2020 to Early 2021 \"></iframe>\n",
    "<br>Note: If your video is too large, you can host it on Vimeo, YouTube, etc and paste the URL here"
   ]
  },
  {
   "cell_type": "code",
   "execution_count": 3,
   "metadata": {
    "colab": {
     "base_uri": "https://localhost:8080/"
    },
    "id": "4ZK0-f54UAtE",
    "outputId": "e3419570-1f68-4d16-ee93-75d999c32aac"
   },
   "outputs": [
    {
     "name": "stderr",
     "output_type": "stream",
     "text": [
      "[nltk_data] Downloading package stopwords to\n",
      "[nltk_data]     C:\\Users\\jerry\\AppData\\Roaming\\nltk_data...\n",
      "[nltk_data]   Unzipping corpora\\stopwords.zip.\n"
     ]
    }
   ],
   "source": [
    "# add your imports here for your entire project\n",
    "import pandas as pd\n",
    "import numpy as np\n",
    "import nltk\n",
    "from nltk.corpus import stopwords\n",
    "nltk.download('stopwords')\n",
    "from nltk.stem import WordNetLemmatizer\n",
    "import re\n",
    "from sklearn.model_selection import train_test_split\n",
    "from sklearn.feature_extraction.text import TfidfVectorizer\n",
    "from sklearn.naive_bayes import MultinomialNB\n",
    "from sklearn.pipeline import make_pipeline\n",
    "from sklearn import metrics\n",
    "import matplotlib.pyplot as plt"
   ]
  },
  {
   "cell_type": "markdown",
   "metadata": {
    "id": "AIx7b0ADNgtp"
   },
   "source": [
    "#Project Introduction"
   ]
  },
  {
   "cell_type": "markdown",
   "metadata": {
    "id": "5213LwpT2jZk"
   },
   "source": [
    ">There have been many disputes since the first COVID-19 vaccine was invented come out to the public. According to CDC, current vaccines are safe and can effectively reduce the risk of COVID-19 among people who are fully vaccinated by 90 percent or more(2021). Even though the safety and effectiveness of vaccines are backed by official statistical results, there are still many doubts about them on social media, which have affected people deciding whether to take the vaccines more broadly. Consequently, the United States is still at the risk of experiencing another wave of COVID-19 with not enough protection of vaccinations. The good news is that the vaccinated population seemed to increase more rapidly, which probably indicates that more people have been receptive to the idea of being vaccinated against the virus. According to a statistic, 51.1% of the world population has received at least one dose of a COVID-19 vaccine by Nov. 2021, while the number in America is 57.25%(Ritchie et. al, 2020). \n",
    "<br>\n",
    "<br>The purpose of this study is to explore how the public’s opinion about COVID-19 vaccines has been changed over months. The study aims to help researchers find out what happened in the world that may have influenced the credibility of vaccines, as well as whether people have felt more positive about getting vaccinated. The result of this study could serve as a supplement for professionals when they are making further COVID-19 vaccination policies. Before taking a look into the actual data, I would like to assume that vaccines are being more widely accepted as time pass, according to the faster-growing vaccination rate in the United States.\n",
    "<br>\n",
    "<br>\n",
    "\n",
    "Our sentiment analysis of collected Reddit posts will begin with building a model that could predict the sentiments expressed by words. To achieve that, The TF-IDF Words vectorization will be implemented to extract numerical features from text content. Then I will use the Naive Bayes algorithm to make categorization of tweets based on their sentiments and use the numbers 1, 2 to represent non-negative and negative sentiments. In the end, I will calculate the mean sentiment value each month from Jan. 2020 to Feb. 2021 and make a graph to see if any trend has appeared in the past year.\n",
    "\n"
   ]
  },
  {
   "cell_type": "markdown",
   "metadata": {
    "id": "GJvmagnZDPjW"
   },
   "source": [
    "# Data Acquisition, Selection\n",
    "\n"
   ]
  },
  {
   "cell_type": "markdown",
   "metadata": {
    "id": "LNWt3KN18kLU"
   },
   "source": [
    "First of all, the two .csv datasets we will use in this study are both from Kaggle and are publically accessible. Data were collected directly from corresponding social media using the praw Python package. The major difference between these two datasets is that one of them, which will be used to train and test our model, is collected from Twitter and is already labeled while the other one is unlabeled and is collected from Reddit. "
   ]
  },
  {
   "cell_type": "code",
   "execution_count": 4,
   "metadata": {
    "colab": {
     "base_uri": "https://localhost:8080/",
     "height": 143
    },
    "id": "D3mTQuR78nV6",
    "outputId": "d1ec7cc0-ef29-49ce-ad3e-336591ff8b21"
   },
   "outputs": [
    {
     "data": {
      "text/html": [
       "<div>\n",
       "<style scoped>\n",
       "    .dataframe tbody tr th:only-of-type {\n",
       "        vertical-align: middle;\n",
       "    }\n",
       "\n",
       "    .dataframe tbody tr th {\n",
       "        vertical-align: top;\n",
       "    }\n",
       "\n",
       "    .dataframe thead th {\n",
       "        text-align: right;\n",
       "    }\n",
       "</style>\n",
       "<table border=\"1\" class=\"dataframe\">\n",
       "  <thead>\n",
       "    <tr style=\"text-align: right;\">\n",
       "      <th></th>\n",
       "      <th>title</th>\n",
       "      <th>score</th>\n",
       "      <th>id</th>\n",
       "      <th>url</th>\n",
       "      <th>comms_num</th>\n",
       "      <th>created</th>\n",
       "      <th>body</th>\n",
       "      <th>timestamp</th>\n",
       "    </tr>\n",
       "  </thead>\n",
       "  <tbody>\n",
       "    <tr>\n",
       "      <th>0</th>\n",
       "      <td>Health Canada approves AstraZeneca COVID-19 va...</td>\n",
       "      <td>7</td>\n",
       "      <td>lt74vw</td>\n",
       "      <td>https://www.canadaforums.ca/2021/02/health-can...</td>\n",
       "      <td>0</td>\n",
       "      <td>1.614400e+09</td>\n",
       "      <td>NaN</td>\n",
       "      <td>2021-02-27 06:33:45</td>\n",
       "    </tr>\n",
       "    <tr>\n",
       "      <th>1</th>\n",
       "      <td>COVID-19 in Canada: 'Vaccination passports' a ...</td>\n",
       "      <td>2</td>\n",
       "      <td>lsh0ij</td>\n",
       "      <td>https://www.canadaforums.ca/2021/02/covid-19-i...</td>\n",
       "      <td>1</td>\n",
       "      <td>1.614316e+09</td>\n",
       "      <td>NaN</td>\n",
       "      <td>2021-02-26 07:11:07</td>\n",
       "    </tr>\n",
       "    <tr>\n",
       "      <th>2</th>\n",
       "      <td>Coronavirus variants could fuel Canada's third...</td>\n",
       "      <td>6</td>\n",
       "      <td>lohlle</td>\n",
       "      <td>https://www.canadaforums.ca/2021/02/coronaviru...</td>\n",
       "      <td>0</td>\n",
       "      <td>1.613887e+09</td>\n",
       "      <td>NaN</td>\n",
       "      <td>2021-02-21 07:50:08</td>\n",
       "    </tr>\n",
       "  </tbody>\n",
       "</table>\n",
       "</div>"
      ],
      "text/plain": [
       "                                               title  score      id  \\\n",
       "0  Health Canada approves AstraZeneca COVID-19 va...      7  lt74vw   \n",
       "1  COVID-19 in Canada: 'Vaccination passports' a ...      2  lsh0ij   \n",
       "2  Coronavirus variants could fuel Canada's third...      6  lohlle   \n",
       "\n",
       "                                                 url  comms_num       created  \\\n",
       "0  https://www.canadaforums.ca/2021/02/health-can...          0  1.614400e+09   \n",
       "1  https://www.canadaforums.ca/2021/02/covid-19-i...          1  1.614316e+09   \n",
       "2  https://www.canadaforums.ca/2021/02/coronaviru...          0  1.613887e+09   \n",
       "\n",
       "  body            timestamp  \n",
       "0  NaN  2021-02-27 06:33:45  \n",
       "1  NaN  2021-02-26 07:11:07  \n",
       "2  NaN  2021-02-21 07:50:08  "
      ]
     },
     "execution_count": 4,
     "metadata": {},
     "output_type": "execute_result"
    }
   ],
   "source": [
    "#The unlabeled dataset we will used to make prediction:\n",
    "data = pd.read_csv('https://raw.githubusercontent.com/JerryGgzm/covid_tweet_data/main/reddit_vm.csv')\n",
    "data = pd.DataFrame(data)\n",
    "data.head(3)"
   ]
  },
  {
   "cell_type": "code",
   "execution_count": 5,
   "metadata": {
    "colab": {
     "base_uri": "https://localhost:8080/",
     "height": 143
    },
    "id": "GhmFaL_IuTcV",
    "outputId": "603ae8c4-a9d3-4e06-8911-4d541b839975"
   },
   "outputs": [
    {
     "data": {
      "text/html": [
       "<div>\n",
       "<style scoped>\n",
       "    .dataframe tbody tr th:only-of-type {\n",
       "        vertical-align: middle;\n",
       "    }\n",
       "\n",
       "    .dataframe tbody tr th {\n",
       "        vertical-align: top;\n",
       "    }\n",
       "\n",
       "    .dataframe thead th {\n",
       "        text-align: right;\n",
       "    }\n",
       "</style>\n",
       "<table border=\"1\" class=\"dataframe\">\n",
       "  <thead>\n",
       "    <tr style=\"text-align: right;\">\n",
       "      <th></th>\n",
       "      <th>tweet_id</th>\n",
       "      <th>label</th>\n",
       "      <th>tweet_text</th>\n",
       "    </tr>\n",
       "  </thead>\n",
       "  <tbody>\n",
       "    <tr>\n",
       "      <th>0</th>\n",
       "      <td>1.360340e+18</td>\n",
       "      <td>1</td>\n",
       "      <td>4,000 a day dying from the so called Covid-19 ...</td>\n",
       "    </tr>\n",
       "    <tr>\n",
       "      <th>1</th>\n",
       "      <td>1.382900e+18</td>\n",
       "      <td>2</td>\n",
       "      <td>Pranam message for today manifested in Dhyan b...</td>\n",
       "    </tr>\n",
       "    <tr>\n",
       "      <th>2</th>\n",
       "      <td>1.375670e+18</td>\n",
       "      <td>2</td>\n",
       "      <td>Hyderabad-based ?@BharatBiotech? has sought fu...</td>\n",
       "    </tr>\n",
       "  </tbody>\n",
       "</table>\n",
       "</div>"
      ],
      "text/plain": [
       "       tweet_id  label                                         tweet_text\n",
       "0  1.360340e+18      1  4,000 a day dying from the so called Covid-19 ...\n",
       "1  1.382900e+18      2  Pranam message for today manifested in Dhyan b...\n",
       "2  1.375670e+18      2  Hyderabad-based ?@BharatBiotech? has sought fu..."
      ]
     },
     "execution_count": 5,
     "metadata": {},
     "output_type": "execute_result"
    }
   ],
   "source": [
    "#The labeled dataset for building and testing model:\n",
    "train = pd.read_csv('https://raw.githubusercontent.com/JerryGgzm/covid_tweet_data/main/train.csv')\n",
    "train = pd.DataFrame(train)\n",
    "train.head(3)"
   ]
  },
  {
   "cell_type": "markdown",
   "metadata": {
    "id": "KE0SKRE2d1IF"
   },
   "source": [
    "# Data Cleaning"
   ]
  },
  {
   "cell_type": "markdown",
   "metadata": {
    "id": "M3AmsP0slRdW"
   },
   "source": [
    "A pipe function for cleaning data:"
   ]
  },
  {
   "cell_type": "code",
   "execution_count": 6,
   "metadata": {
    "id": "8t4k9gyTlV5U"
   },
   "outputs": [],
   "source": [
    "def clean(tx):\n",
    "  clean_data = []\n",
    "  \n",
    "  #helper function of function tokenize\n",
    "  def normalize_token(token):\n",
    "    token = token.strip()\n",
    "    if token.startswith(\"'\") or token.endswith(\"'\"):\n",
    "      token = token.replace(\"'\",\" \")\n",
    "    token = token.strip()\n",
    "    return token\n",
    "\n",
    "  #split a sentence into tokens\n",
    "  def tokenize(text):\n",
    "    pattern = r\"['A-Za-z]+-?[A-Za-z']+\"\n",
    "    reg = re.compile(pattern)\n",
    "    tokens = reg.findall(text)\n",
    "    rv = []\n",
    "    for t in tokens:\n",
    "      rv.append(normalize_token(t))\n",
    "    return rv\n",
    "\n",
    "  def normalize(tokens):\n",
    "    #change all tokens to lowercase, remove stopwords and words that shorter than 2 characters\n",
    "    rv = [t.lower() for t in tokens if t not in stopwords.words('english') and len(t) > 2]\n",
    "    return rv\n",
    "\n",
    "  clean_data = normalize(tokenize(tx))\n",
    "  return clean_data"
   ]
  },
  {
   "cell_type": "markdown",
   "metadata": {
    "id": "tkrqdzZy3m-b"
   },
   "source": [
    "## Clean The Training&Testing Dataset"
   ]
  },
  {
   "cell_type": "markdown",
   "metadata": {
    "id": "2M_lDLLZ3-1L"
   },
   "source": [
    "Building/Testing the model only involves the \"label\" and \"tweet_text\" columns, so we first extract them from the dataset:"
   ]
  },
  {
   "cell_type": "code",
   "execution_count": 7,
   "metadata": {
    "id": "SGHOQzUk4QsL"
   },
   "outputs": [],
   "source": [
    "train = train[['tweet_text','label']]"
   ]
  },
  {
   "cell_type": "markdown",
   "metadata": {
    "id": "D2PLrFjS4jzk"
   },
   "source": [
    "And then we drop all instances containing NaN value in them:"
   ]
  },
  {
   "cell_type": "code",
   "execution_count": 8,
   "metadata": {
    "id": "zYXjCCXf4lvp"
   },
   "outputs": [],
   "source": [
    "train = train.dropna(thresh=2)"
   ]
  },
  {
   "cell_type": "markdown",
   "metadata": {
    "id": "3KGv8X1U4yYs"
   },
   "source": [
    "Clean the textual data in the column \"tweet_text\":"
   ]
  },
  {
   "cell_type": "code",
   "execution_count": 9,
   "metadata": {
    "colab": {
     "base_uri": "https://localhost:8080/",
     "height": 143
    },
    "id": "IyaFY3_5422i",
    "outputId": "88220040-f435-4227-c088-90aca98c3d47"
   },
   "outputs": [
    {
     "data": {
      "text/html": [
       "<div>\n",
       "<style scoped>\n",
       "    .dataframe tbody tr th:only-of-type {\n",
       "        vertical-align: middle;\n",
       "    }\n",
       "\n",
       "    .dataframe tbody tr th {\n",
       "        vertical-align: top;\n",
       "    }\n",
       "\n",
       "    .dataframe thead th {\n",
       "        text-align: right;\n",
       "    }\n",
       "</style>\n",
       "<table border=\"1\" class=\"dataframe\">\n",
       "  <thead>\n",
       "    <tr style=\"text-align: right;\">\n",
       "      <th></th>\n",
       "      <th>tweet_text</th>\n",
       "      <th>label</th>\n",
       "    </tr>\n",
       "  </thead>\n",
       "  <tbody>\n",
       "    <tr>\n",
       "      <th>0</th>\n",
       "      <td>day dying called covid vaccine dailybeast repo...</td>\n",
       "      <td>1</td>\n",
       "    </tr>\n",
       "    <tr>\n",
       "      <th>1</th>\n",
       "      <td>pranam message today manifested dhyan meenapra...</td>\n",
       "      <td>2</td>\n",
       "    </tr>\n",
       "    <tr>\n",
       "      <th>2</th>\n",
       "      <td>hyderabad-based bharatbiotech sought funds gov...</td>\n",
       "      <td>2</td>\n",
       "    </tr>\n",
       "  </tbody>\n",
       "</table>\n",
       "</div>"
      ],
      "text/plain": [
       "                                          tweet_text  label\n",
       "0  day dying called covid vaccine dailybeast repo...      1\n",
       "1  pranam message today manifested dhyan meenapra...      2\n",
       "2  hyderabad-based bharatbiotech sought funds gov...      2"
      ]
     },
     "execution_count": 9,
     "metadata": {},
     "output_type": "execute_result"
    }
   ],
   "source": [
    "train['tweet_text'] = train['tweet_text'].apply(clean)\n",
    "train['tweet_text'] = train['tweet_text'].apply(lambda x: ' '.join(x))\n",
    "train.head(3)"
   ]
  },
  {
   "cell_type": "markdown",
   "metadata": {
    "id": "e4sLU-TimEgE"
   },
   "source": [
    "Becaue our goal is to predict whether target Reddit posts are negative or nonnegative, we will make adjustments on the \"label\" column, in which 1 will represents non-negative(positive and neutral) sentiments and 2 will represents negative sentiment."
   ]
  },
  {
   "cell_type": "code",
   "execution_count": 10,
   "metadata": {
    "colab": {
     "base_uri": "https://localhost:8080/",
     "height": 268
    },
    "id": "onFvx9jarZ3e",
    "outputId": "1334b8e1-0d90-4bca-c4ef-4d335d541ee8"
   },
   "outputs": [
    {
     "data": {
      "text/html": [
       "<div>\n",
       "<style scoped>\n",
       "    .dataframe tbody tr th:only-of-type {\n",
       "        vertical-align: middle;\n",
       "    }\n",
       "\n",
       "    .dataframe tbody tr th {\n",
       "        vertical-align: top;\n",
       "    }\n",
       "\n",
       "    .dataframe thead th {\n",
       "        text-align: right;\n",
       "    }\n",
       "</style>\n",
       "<table border=\"1\" class=\"dataframe\">\n",
       "  <thead>\n",
       "    <tr style=\"text-align: right;\">\n",
       "      <th></th>\n",
       "      <th>tweet_text</th>\n",
       "      <th>label</th>\n",
       "    </tr>\n",
       "  </thead>\n",
       "  <tbody>\n",
       "    <tr>\n",
       "      <th>0</th>\n",
       "      <td>day dying called covid vaccine dailybeast repo...</td>\n",
       "      <td>1</td>\n",
       "    </tr>\n",
       "    <tr>\n",
       "      <th>1</th>\n",
       "      <td>pranam message today manifested dhyan meenapra...</td>\n",
       "      <td>1</td>\n",
       "    </tr>\n",
       "    <tr>\n",
       "      <th>2</th>\n",
       "      <td>hyderabad-based bharatbiotech sought funds gov...</td>\n",
       "      <td>1</td>\n",
       "    </tr>\n",
       "    <tr>\n",
       "      <th>3</th>\n",
       "      <td>confirmation chinese vaccines high protection ...</td>\n",
       "      <td>1</td>\n",
       "    </tr>\n",
       "    <tr>\n",
       "      <th>4</th>\n",
       "      <td>lab studies suggest pfizer moderna vaccines pr...</td>\n",
       "      <td>2</td>\n",
       "    </tr>\n",
       "    <tr>\n",
       "      <th>5</th>\n",
       "      <td>still want take jab pfizerbiontech sideeffects...</td>\n",
       "      <td>1</td>\n",
       "    </tr>\n",
       "    <tr>\n",
       "      <th>6</th>\n",
       "      <td>this time aerol neas flight goes moscow pick s...</td>\n",
       "      <td>1</td>\n",
       "    </tr>\n",
       "  </tbody>\n",
       "</table>\n",
       "</div>"
      ],
      "text/plain": [
       "                                          tweet_text  label\n",
       "0  day dying called covid vaccine dailybeast repo...      1\n",
       "1  pranam message today manifested dhyan meenapra...      1\n",
       "2  hyderabad-based bharatbiotech sought funds gov...      1\n",
       "3  confirmation chinese vaccines high protection ...      1\n",
       "4  lab studies suggest pfizer moderna vaccines pr...      2\n",
       "5  still want take jab pfizerbiontech sideeffects...      1\n",
       "6  this time aerol neas flight goes moscow pick s...      1"
      ]
     },
     "execution_count": 10,
     "metadata": {},
     "output_type": "execute_result"
    }
   ],
   "source": [
    "#label both \"positive\" and \"neutral\" results with 1.\n",
    "train['label'].replace(2, 1, inplace = True)\n",
    "#label \"negative\" results with 3.\n",
    "train['label'].replace(3, 2, inplace = True)\n",
    "train.head(7)"
   ]
  },
  {
   "cell_type": "markdown",
   "metadata": {
    "id": "bb_Istxbi45Z"
   },
   "source": [
    "## Clean The Unlabeled Dataset"
   ]
  },
  {
   "cell_type": "markdown",
   "metadata": {
    "id": "2xUlMt-Ree8d"
   },
   "source": [
    "In this study, we will only use the \"body\" and \"timestamp\" columns in the unlabeled dataset, so we first extract them from the dataset:"
   ]
  },
  {
   "cell_type": "code",
   "execution_count": 11,
   "metadata": {
    "id": "LpZHKXylge5j"
   },
   "outputs": [],
   "source": [
    "data = data[['body','timestamp']]"
   ]
  },
  {
   "cell_type": "markdown",
   "metadata": {
    "id": "zWny9abNjCZX"
   },
   "source": [
    "And then we drop all instances containing NaN value in them:"
   ]
  },
  {
   "cell_type": "code",
   "execution_count": 12,
   "metadata": {
    "id": "LMeoaJ_cjMim"
   },
   "outputs": [],
   "source": [
    "data = data.dropna(thresh=2)"
   ]
  },
  {
   "cell_type": "markdown",
   "metadata": {
    "id": "-yWfVJyTzDLi"
   },
   "source": [
    "Clean the textual data in the column \"body\":"
   ]
  },
  {
   "cell_type": "code",
   "execution_count": 13,
   "metadata": {
    "colab": {
     "base_uri": "https://localhost:8080/",
     "height": 143
    },
    "id": "4uYejB3BzOE_",
    "outputId": "185d5b4c-c261-4944-8bca-9d2036cf42a0"
   },
   "outputs": [
    {
     "data": {
      "text/html": [
       "<div>\n",
       "<style scoped>\n",
       "    .dataframe tbody tr th:only-of-type {\n",
       "        vertical-align: middle;\n",
       "    }\n",
       "\n",
       "    .dataframe tbody tr th {\n",
       "        vertical-align: top;\n",
       "    }\n",
       "\n",
       "    .dataframe thead th {\n",
       "        text-align: right;\n",
       "    }\n",
       "</style>\n",
       "<table border=\"1\" class=\"dataframe\">\n",
       "  <thead>\n",
       "    <tr style=\"text-align: right;\">\n",
       "      <th></th>\n",
       "      <th>body</th>\n",
       "      <th>timestamp</th>\n",
       "    </tr>\n",
       "  </thead>\n",
       "  <tbody>\n",
       "    <tr>\n",
       "      <th>6</th>\n",
       "      <td>your it's myth only one vaccine contains get w...</td>\n",
       "      <td>2019-03-25 02:34:53</td>\n",
       "    </tr>\n",
       "    <tr>\n",
       "      <th>7</th>\n",
       "      <td>https youtu zbkvcpbnnku</td>\n",
       "      <td>2020-04-23 20:23:42</td>\n",
       "    </tr>\n",
       "    <tr>\n",
       "      <th>8</th>\n",
       "      <td>because anti-vaxxers sense</td>\n",
       "      <td>2020-04-24 23:19:50</td>\n",
       "    </tr>\n",
       "  </tbody>\n",
       "</table>\n",
       "</div>"
      ],
      "text/plain": [
       "                                                body            timestamp\n",
       "6  your it's myth only one vaccine contains get w...  2019-03-25 02:34:53\n",
       "7                            https youtu zbkvcpbnnku  2020-04-23 20:23:42\n",
       "8                         because anti-vaxxers sense  2020-04-24 23:19:50"
      ]
     },
     "execution_count": 13,
     "metadata": {},
     "output_type": "execute_result"
    }
   ],
   "source": [
    "data['body'] = data['body'].apply(clean)\n",
    "data['body'] = data['body'].apply(lambda x: ' '.join(x))\n",
    "data.head(3)"
   ]
  },
  {
   "cell_type": "markdown",
   "metadata": {
    "id": "khrSninNUJ8L"
   },
   "source": [
    "Because we only need the year and month from each timestamp, we will normalize the \"timestamp\" column and only keep year and month. "
   ]
  },
  {
   "cell_type": "code",
   "execution_count": 14,
   "metadata": {
    "colab": {
     "base_uri": "https://localhost:8080/"
    },
    "id": "1VG-rIuHUnIy",
    "outputId": "606f92e7-d126-4262-b93e-6575fea8d775"
   },
   "outputs": [
    {
     "name": "stdout",
     "output_type": "stream",
     "text": [
      "                                                body  timestamp\n",
      "6  your it's myth only one vaccine contains get w...    2019.03\n",
      "7                            https youtu zbkvcpbnnku    2020.04\n",
      "8                         because anti-vaxxers sense    2020.04\n"
     ]
    }
   ],
   "source": [
    "data['timestamp'] = data['timestamp'].astype(str)\n",
    "data['timestamp'] = data['timestamp'].apply(lambda time: float(time[:4]+'.'+time[5:7]))\n",
    "print(data.head(3))"
   ]
  },
  {
   "cell_type": "markdown",
   "metadata": {
    "id": "9Rulu2D0g1V_"
   },
   "source": [
    "Then, we will filter out posts that are posted before Jan. 2020."
   ]
  },
  {
   "cell_type": "code",
   "execution_count": 15,
   "metadata": {
    "colab": {
     "base_uri": "https://localhost:8080/"
    },
    "id": "vkwgZ29nu6Xb",
    "outputId": "49f7335f-2fac-4e11-a31b-4f3023993ce8"
   },
   "outputs": [
    {
     "name": "stdout",
     "output_type": "stream",
     "text": [
      "                                                   body  timestamp\n",
      "1086  https www cdc gov cancer hpv statistics race h...    2020.01\n",
      "1089  sign petition everyone boys human deserving di...    2020.01\n",
      "1088                             it's your petition lol    2020.01\n",
      "1087  boys human deserving disease preventing treatm...    2020.01\n",
      "1085  also girls vaccinated help protect boys sex gi...    2020.01\n",
      "1047  used antivax good idea people actually think s...    2020.01\n",
      "1083                                      that seem odd    2020.01\n"
     ]
    }
   ],
   "source": [
    "data = data.sort_values(['timestamp'], ascending = True)\n",
    "data = data[data['timestamp']>=2020.01]\n",
    "print(data.head(7))"
   ]
  },
  {
   "cell_type": "markdown",
   "metadata": {
    "id": "cZiK2fxwGz80"
   },
   "source": [
    "# Data Exploration\n",
    ">Two attributes of the training dataset:\n",
    "\n",
    "\n",
    "*   'tweet_text' : the content people post on their social media.\n",
    "*   'label' : the pre-marked sentiment. \n",
    "\n",
    "  *   1: Non-negative sentiment\n",
    "  *   2: Negative sentiment\n",
    "<br>\n",
    "\n",
    ">Two attributes of the unlabeled dataset:\n",
    "\n",
    "\n",
    "*   'body' : the content people post on their social media.\n",
    "*   'timestamps' : the time people posted their content. \n",
    "\n",
    "\n",
    "\n",
    "\n",
    "\n"
   ]
  },
  {
   "cell_type": "markdown",
   "metadata": {
    "id": "AVqckiHyDUkD"
   },
   "source": [
    "# Data Analysis"
   ]
  },
  {
   "cell_type": "markdown",
   "metadata": {
    "id": "OyiUrIm4UGeo"
   },
   "source": [
    "### Application of TF-IDF And Naive Bayes\n",
    "<ul>\n",
    "<li><b>TF-IDF</b>(term frequency-inverse document frequency) is a statistical technique that measures how a term is relevant to a document in a collection of documents. TF-IDF can be calculated by multiplying TF(term frequency of a word in a document) by IDF(inverse document frequency of the word across a set of documents). A term’s TF-IDF increase as it appears more times in each document, but decreases as it appears more times in the scope of all documents. Compared with TF, TF-IDF adjusts the influence of common stop words(like “a” and “the”), making the outcome more accurate. \n",
    "\n",
    "\\begin{align}\n",
    "        TF(t) = \\frac{freq(t)}{n} \n",
    "\\end{align}t is the term, n is the total number of terms in the document\n",
    "\n",
    "\\begin{align}\n",
    "        IDF(t) = log(\\frac{1+n}{1+df(t)})\n",
    "\\end{align}\n",
    "n is the total number of documents, df(t) is the number of documents have the term in them.\n",
    "\n",
    "\\begin{align}\n",
    "        TF-IDF(t) = TF(t)*IDF(t) \n",
    "\\end{align}\n",
    "\n",
    "In this project, we will implement TF-IDF using sklearn's TfidfVectorizer function, and use it to vectorize our textual data for later analysis.\n",
    "<li><b>Naive Bayes</b> is a classifier algorithm based on Bayes Theorem:\n",
    "\n",
    "\\begin{align}\n",
    "        P(category|feature) = \\frac{P(feature|category)*P(category)}{P(feature)} \n",
    "\\end{align}\n",
    "\n",
    "with an assumption that all predictors are independent to each others.\n",
    "<br>The Naive Bayes algorithm could be used to predict the probability of getting a particular result with a given feature exists. For example, if we know that\n",
    "\n",
    ">P(\"good\" | Positive Sentiment) = 0.5\n",
    "\n",
    "And we know that \n",
    ">The overall probability of a tweet has a positive sentiment is 0.3.\n",
    "<br>The overall probability of a tweet including the term \"good\" is 0.5.\n",
    "\n",
    "Then we can predict that when a tweet includes the term \"good\", it has 30% chance of having a good sentiment.\n",
    "<br>\n",
    "Dealing with multiple terms, like a sentence, it is the same way to make a prediction, except we calculate by the probability of an ordered combination of terms instead of the probability of a single term. The equation is:\n",
    "\n",
    "\\begin{align}\n",
    "        P(category|features) = P(category) * \\prod_{1\\le i \\le n} P(feature_i|category)\n",
    "\\end{align}\n",
    "\n",
    "where n is the total number of features.\n",
    "<br>We will apply this algorithm to our already vectorized tweets to calculate the probability of each tweet having nonnegative or negative sentiment. For this part, MultinomialNB from module sklearn.naive_bayes will be used, it will further categorize each tweet into one of the two sentiments(negative and nonnegative) based on the probabilities it got from the last step. "
   ]
  },
  {
   "cell_type": "markdown",
   "metadata": {
    "id": "83lUUZEKnXy-"
   },
   "source": [
    "### **Step 1:**\n",
    "Identify the dependent(the sentiment label) and independent variable(the tweet content) in the training&testing dataset."
   ]
  },
  {
   "cell_type": "code",
   "execution_count": 16,
   "metadata": {
    "id": "r-uM7xwanv47"
   },
   "outputs": [],
   "source": [
    "#independent variable\n",
    "x = train['tweet_text']\n",
    "#dependent variable\n",
    "y = train['label']"
   ]
  },
  {
   "cell_type": "markdown",
   "metadata": {
    "id": "2nyD05jeBM-7"
   },
   "source": [
    "### **Step 2:**\n",
    "<br>Split the training&testing dataset into a subset for training and a subset for testing the model."
   ]
  },
  {
   "cell_type": "code",
   "execution_count": 17,
   "metadata": {
    "id": "fMahWh1pIeE8"
   },
   "outputs": [],
   "source": [
    "x_train, x_test, y_train, y_test = train_test_split(x, y, test_size=0.2, random_state=1)"
   ]
  },
  {
   "cell_type": "markdown",
   "metadata": {
    "id": "9sGj8A-loMhi"
   },
   "source": [
    "### **Step 3：**\n",
    "Build & Evaluate the model\\.\n",
    "<br>TF-IDF:\n"
   ]
  },
  {
   "cell_type": "code",
   "execution_count": 18,
   "metadata": {
    "id": "ZW76Y7eSOxA1"
   },
   "outputs": [],
   "source": [
    "vectorizer = TfidfVectorizer()"
   ]
  },
  {
   "cell_type": "markdown",
   "metadata": {
    "id": "xRoQZUwr55QD"
   },
   "source": [
    "Naive-Bayes:"
   ]
  },
  {
   "cell_type": "code",
   "execution_count": 19,
   "metadata": {
    "id": "p4sJsuI_533e"
   },
   "outputs": [],
   "source": [
    "nb = MultinomialNB()"
   ]
  },
  {
   "cell_type": "markdown",
   "metadata": {
    "id": "SF2-kfbP6bJg"
   },
   "source": [
    "sklearn's make_pipeline method encapsulats multiple different transformers alongside an estimator into one object, so we only need to call .predict or .fit once. Now let us put our TF-IDF and Naive-Bayes transformers into the pipeline."
   ]
  },
  {
   "cell_type": "code",
   "execution_count": 20,
   "metadata": {
    "id": "26rhR3-q8btp"
   },
   "outputs": [],
   "source": [
    "pipe = make_pipeline(vectorizer, nb)"
   ]
  },
  {
   "cell_type": "markdown",
   "metadata": {
    "id": "k08autJm80E8"
   },
   "source": [
    "Then we fit the model and make prediction."
   ]
  },
  {
   "cell_type": "code",
   "execution_count": 21,
   "metadata": {
    "id": "cYeJdJsG88zL"
   },
   "outputs": [],
   "source": [
    "pipe.fit(x, y)\n",
    "y_pred = pipe.predict(x_test)"
   ]
  },
  {
   "cell_type": "markdown",
   "metadata": {
    "id": "QwkW2-6s9MOL"
   },
   "source": [
    "After all, we test the accuracy of our model with the testing subset."
   ]
  },
  {
   "cell_type": "code",
   "execution_count": 22,
   "metadata": {
    "colab": {
     "base_uri": "https://localhost:8080/"
    },
    "id": "wRNx9Vln9ddL",
    "outputId": "685dec23-64cf-4990-bf87-3e91e71735ee"
   },
   "outputs": [
    {
     "name": "stdout",
     "output_type": "stream",
     "text": [
      "              precision    recall  f1-score   support\n",
      "\n",
      "           1       0.77      1.00      0.87       804\n",
      "           2       0.98      0.41      0.58       396\n",
      "\n",
      "    accuracy                           0.80      1200\n",
      "   macro avg       0.88      0.70      0.73      1200\n",
      "weighted avg       0.84      0.80      0.78      1200\n",
      "\n"
     ]
    }
   ],
   "source": [
    "print(metrics.classification_report(y_test, y_pred))"
   ]
  },
  {
   "cell_type": "markdown",
   "metadata": {
    "id": "svXpuPhOBsVf"
   },
   "source": [
    "As shown in Figure 1(Desarda, 2018), the Precision of a model represents the rate of getting the relevant elements as the result. And the Recall of a model indicates what proportion of all relevant elements was recognized as relevant. The F1-Score in the third column balances the Precision and the Recall, measures the accuracy more comprehensively. Here is how F1-Score is calculated:\n",
    "\n",
    "<br>\\begin{align}\n",
    "        F(β)-Score = (1+β^2)*\\frac{Precision*Recall}{\\beta ^2 *Precision + Recall}\n",
    "\\end{align}where $β$ is 1 for F1-Score Test.\n",
    "<br>Because we want our model to predict sentiment by terms in users' posts, we value Precision more than Recall. Therefore, with an overall accuracy of 80%, our model is acceptable.\n",
    "\n",
    "<br>![](https://miro.medium.com/proxy/1*WlTKk0RmvgcjWs2ikxG0fQ.jpeg)\n",
    "<br><b>*Figure 1: Precision And Recall of a Model(Desarda, 2018)*"
   ]
  },
  {
   "cell_type": "markdown",
   "metadata": {
    "id": "GcT2-DOMLnn6"
   },
   "source": [
    "### **Step 4**:\n",
    "Use the model to predict the unlabeled dataset and add a new column in the dataset to hold the results."
   ]
  },
  {
   "cell_type": "code",
   "execution_count": 23,
   "metadata": {
    "colab": {
     "base_uri": "https://localhost:8080/"
    },
    "id": "15ZI4n5tMzZB",
    "outputId": "c3c26bd3-5140-4eaa-e263-53b59e9de7d2"
   },
   "outputs": [
    {
     "name": "stdout",
     "output_type": "stream",
     "text": [
      "                                                   body  timestamp  \\\n",
      "1086  https www cdc gov cancer hpv statistics race h...    2020.01   \n",
      "1089  sign petition everyone boys human deserving di...    2020.01   \n",
      "1088                             it's your petition lol    2020.01   \n",
      "\n",
      "      predicted_sentiment  \n",
      "1086                    1  \n",
      "1089                    1  \n",
      "1088                    1  \n"
     ]
    }
   ],
   "source": [
    "#make prediction\n",
    "results = pipe.predict(data['body'])\n",
    "#save the results into the column\n",
    "data['predicted_sentiment'] = results\n",
    "print(data.head(3))"
   ]
  },
  {
   "cell_type": "markdown",
   "metadata": {
    "id": "VU3_CU93NA5Y"
   },
   "source": [
    "### **Step 5**:\n",
    "Next, we will make a line graph of the monthly mean sentiment to find out how public attitude toward COVID-19 vaccine has changed in the past year."
   ]
  },
  {
   "cell_type": "code",
   "execution_count": 24,
   "metadata": {
    "colab": {
     "base_uri": "https://localhost:8080/",
     "height": 694
    },
    "id": "ol6qnuXATkWi",
    "outputId": "481d6b60-8e62-4cf5-de5e-21cf7e805fdb"
   },
   "outputs": [
    {
     "name": "stdout",
     "output_type": "stream",
     "text": [
      "           predicted_sentiment\n",
      "timestamp                     \n",
      "2020.01               1.021277\n",
      "2020.02               1.000000\n",
      "2020.03               1.018182\n",
      "2020.04               1.000000\n",
      "2020.05               1.000000\n",
      "2020.06               1.000000\n",
      "2020.07               1.000000\n",
      "2020.08               1.000000\n",
      "2020.09               1.000000\n",
      "2020.12               1.000000\n",
      "2021.01               1.035714\n",
      "2021.02               1.000000\n",
      "2021.03               1.022727\n",
      "2021.04               1.023810\n",
      "2021.05               1.000000\n",
      "2021.06               1.000000\n",
      "2021.07               1.000000\n",
      "2021.08               1.000000\n",
      "2021.09               1.000000\n",
      "2021.10               1.000000\n",
      "2021.11               1.000000\n"
     ]
    },
    {
     "data": {
      "image/png": "[encoded data removed]",
      "text/plain": [
       "<Figure size 432x288 with 1 Axes>"
      ]
     },
     "metadata": {
      "needs_background": "light"
     },
     "output_type": "display_data"
    }
   ],
   "source": [
    "print(data.groupby(['timestamp']).mean())\n",
    "t = data.groupby(['timestamp']).mean()\n",
    "plt.plot(t)\n",
    "plt.title(\"Community's Sentiments About Covid-19 Vaccines on Reddit\")\n",
    "plt.xlabel(\"Month\")\n",
    "plt.ylabel(\"Negative Sentiment Level\")\n",
    "plt.show()"
   ]
  },
  {
   "cell_type": "markdown",
   "metadata": {
    "id": "QHgmmT2XDXSu"
   },
   "source": [
    "# Summary"
   ]
  },
  {
   "cell_type": "markdown",
   "metadata": {
    "id": "NXMvh5AbEzTn"
   },
   "source": [
    "Based on the graph above, we can see that at the beginning of the pandemic(around January 2020), the public was looking forward to getting vaccinated once the vaccines come out. Most of the posts about vaccines on Reddit at that time expressed non-negative attitudes. However, the public has started to feel more negative about vaccines since February 2020, after vaccines became available to them. This negative sentiment about vaccines didn’t stop growing until the beginning of 2021. This may illustrate that after months of thinking, the public was able to view the vaccines in a more scientific way without being affected by the rumors."
   ]
  },
  {
   "cell_type": "markdown",
   "metadata": {
    "id": "Gb_jJCfD4W1x"
   },
   "source": [
    "# Reference List\n",
    "1. Centers for Disease Control and Prevention. (2021, October 30). Covid-19 vaccine effectiveness. COVID-19 Vaccine Effectiveness. Retrieved November 9, 2021, from https://www.cdc.gov/coronavirus/2019-ncov/vaccines/effectiveness/index.html.\n",
    "2. Ritchie, H., Mathieu, E., Rodés-Guirao, L., Appel, C., Giattino, C., Ortiz-Ospina, E., Hasell, J., Macdonald, B., Beltekian, D., &amp; Roser, M. (2020, March 5). Coronavirus (COVID-19) vaccinations - statistics and research. Our World in Data. Retrieved November 9, 2021, from https://ourworldindata.org/covid-vaccinations.\n",
    "3. Desarda, A. (2018). Venn Dig for Precision &amp; Recall. Bias -Variance &amp; Precision-Recall Trade-offs: How to aim for the sweet spot. Towards Data Science. Retrieved November 21, 2021, from https://miro.medium.com/proxy/1*WlTKk0RmvgcjWs2ikxG0fQ.jpeg. \n"
   ]
  }
 ],
 "metadata": {
  "colab": {
   "collapsed_sections": [],
   "name": "DMAP FA21 Final Project_MS3.ipynb",
   "provenance": []
  },
  "kernelspec": {
   "display_name": "Python 3",
   "language": "python",
   "name": "python3"
  },
  "language_info": {
   "codemirror_mode": {
    "name": "ipython",
    "version": 3
   },
   "file_extension": ".py",
   "mimetype": "text/x-python",
   "name": "python",
   "nbconvert_exporter": "python",
   "pygments_lexer": "ipython3",
   "version": "3.8.3"
  }
 },
 "nbformat": 4,
 "nbformat_minor": 1
}
